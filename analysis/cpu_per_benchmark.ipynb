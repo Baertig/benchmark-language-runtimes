{
 "cells": [
  {
   "cell_type": "code",
   "execution_count": 2,
   "id": "3d01cd51",
   "metadata": {},
   "outputs": [],
   "source": [
    "import polars as pl\n",
    "import altair as alt\n"
   ]
  },
  {
   "cell_type": "code",
   "execution_count": 3,
   "id": "959d504e",
   "metadata": {},
   "outputs": [
    {
     "data": {
      "text/html": [
       "<div><style>\n",
       ".dataframe > thead > tr,\n",
       ".dataframe > tbody > tr {\n",
       "  text-align: right;\n",
       "  white-space: pre-wrap;\n",
       "}\n",
       "</style>\n",
       "<small>shape: (20, 7)</small><table border=\"1\" class=\"dataframe\"><thead><tr><th>benchmark</th><th>correct</th><th>environment</th><th>execution_time_us</th><th>init_runtime_us</th><th>iteration</th><th>load_program_us</th></tr><tr><td>str</td><td>bool</td><td>str</td><td>i64</td><td>i64</td><td>i64</td><td>i64</td></tr></thead><tbody><tr><td>&quot;tarfind&quot;</td><td>true</td><td>&quot;jerryscript&quot;</td><td>7893220</td><td>99</td><td>0</td><td>13785</td></tr><tr><td>&quot;tarfind&quot;</td><td>true</td><td>&quot;jerryscript&quot;</td><td>7891387</td><td>98</td><td>1</td><td>13785</td></tr><tr><td>&quot;tarfind&quot;</td><td>true</td><td>&quot;jerryscript&quot;</td><td>7891387</td><td>98</td><td>2</td><td>13784</td></tr><tr><td>&quot;tarfind&quot;</td><td>true</td><td>&quot;jerryscript&quot;</td><td>7891387</td><td>99</td><td>3</td><td>13785</td></tr><tr><td>&quot;tarfind&quot;</td><td>true</td><td>&quot;jerryscript&quot;</td><td>7891387</td><td>99</td><td>4</td><td>13785</td></tr><tr><td>&hellip;</td><td>&hellip;</td><td>&hellip;</td><td>&hellip;</td><td>&hellip;</td><td>&hellip;</td><td>&hellip;</td></tr><tr><td>&quot;tarfind&quot;</td><td>true</td><td>&quot;wamr&quot;</td><td>1014189</td><td>452</td><td>0</td><td>2152</td></tr><tr><td>&quot;tarfind&quot;</td><td>true</td><td>&quot;wamr&quot;</td><td>1012546</td><td>226</td><td>1</td><td>2122</td></tr><tr><td>&quot;tarfind&quot;</td><td>true</td><td>&quot;wamr&quot;</td><td>1009306</td><td>227</td><td>2</td><td>2121</td></tr><tr><td>&quot;tarfind&quot;</td><td>true</td><td>&quot;wamr&quot;</td><td>1009625</td><td>249</td><td>3</td><td>2122</td></tr><tr><td>&quot;tarfind&quot;</td><td>true</td><td>&quot;wamr&quot;</td><td>1012414</td><td>249</td><td>4</td><td>2121</td></tr></tbody></table></div>"
      ],
      "text/plain": [
       "shape: (20, 7)\n",
       "┌───────────┬─────────┬─────────────┬────────────────┬────────────────┬───────────┬────────────────┐\n",
       "│ benchmark ┆ correct ┆ environment ┆ execution_time ┆ init_runtime_u ┆ iteration ┆ load_program_u │\n",
       "│ ---       ┆ ---     ┆ ---         ┆ _us            ┆ s              ┆ ---       ┆ s              │\n",
       "│ str       ┆ bool    ┆ str         ┆ ---            ┆ ---            ┆ i64       ┆ ---            │\n",
       "│           ┆         ┆             ┆ i64            ┆ i64            ┆           ┆ i64            │\n",
       "╞═══════════╪═════════╪═════════════╪════════════════╪════════════════╪═══════════╪════════════════╡\n",
       "│ tarfind   ┆ true    ┆ jerryscript ┆ 7893220        ┆ 99             ┆ 0         ┆ 13785          │\n",
       "│ tarfind   ┆ true    ┆ jerryscript ┆ 7891387        ┆ 98             ┆ 1         ┆ 13785          │\n",
       "│ tarfind   ┆ true    ┆ jerryscript ┆ 7891387        ┆ 98             ┆ 2         ┆ 13784          │\n",
       "│ tarfind   ┆ true    ┆ jerryscript ┆ 7891387        ┆ 99             ┆ 3         ┆ 13785          │\n",
       "│ tarfind   ┆ true    ┆ jerryscript ┆ 7891387        ┆ 99             ┆ 4         ┆ 13785          │\n",
       "│ …         ┆ …       ┆ …           ┆ …              ┆ …              ┆ …         ┆ …              │\n",
       "│ tarfind   ┆ true    ┆ wamr        ┆ 1014189        ┆ 452            ┆ 0         ┆ 2152           │\n",
       "│ tarfind   ┆ true    ┆ wamr        ┆ 1012546        ┆ 226            ┆ 1         ┆ 2122           │\n",
       "│ tarfind   ┆ true    ┆ wamr        ┆ 1009306        ┆ 227            ┆ 2         ┆ 2121           │\n",
       "│ tarfind   ┆ true    ┆ wamr        ┆ 1009625        ┆ 249            ┆ 3         ┆ 2122           │\n",
       "│ tarfind   ┆ true    ┆ wamr        ┆ 1012414        ┆ 249            ┆ 4         ┆ 2121           │\n",
       "└───────────┴─────────┴─────────────┴────────────────┴────────────────┴───────────┴────────────────┘"
      ]
     },
     "execution_count": 3,
     "metadata": {},
     "output_type": "execute_result"
    }
   ],
   "source": [
    "benchmark_df = pl.read_csv(\"../bench-feather.csv\")\n",
    "\n",
    "all_correct = benchmark_df.select(pl.col(\"correct\").all()).item(0,0)\n",
    "\n",
    "if not all_correct:\n",
    "    print(\"ALARM !!!\")\n",
    "\n",
    "benchmark_df"
   ]
  },
  {
   "cell_type": "code",
   "execution_count": 6,
   "id": "bd88de15",
   "metadata": {},
   "outputs": [
    {
     "data": {
      "text/html": [
       "\n",
       "<style>\n",
       "  #altair-viz-10ec7b1b4c404272a34f4bbe20c82db6.vega-embed {\n",
       "    width: 100%;\n",
       "    display: flex;\n",
       "  }\n",
       "\n",
       "  #altair-viz-10ec7b1b4c404272a34f4bbe20c82db6.vega-embed details,\n",
       "  #altair-viz-10ec7b1b4c404272a34f4bbe20c82db6.vega-embed details summary {\n",
       "    position: relative;\n",
       "  }\n",
       "</style>\n",
       "<div id=\"altair-viz-10ec7b1b4c404272a34f4bbe20c82db6\"></div>\n",
       "<script type=\"text/javascript\">\n",
       "  var VEGA_DEBUG = (typeof VEGA_DEBUG == \"undefined\") ? {} : VEGA_DEBUG;\n",
       "  (function(spec, embedOpt){\n",
       "    let outputDiv = document.currentScript.previousElementSibling;\n",
       "    if (outputDiv.id !== \"altair-viz-10ec7b1b4c404272a34f4bbe20c82db6\") {\n",
       "      outputDiv = document.getElementById(\"altair-viz-10ec7b1b4c404272a34f4bbe20c82db6\");\n",
       "    }\n",
       "\n",
       "    const paths = {\n",
       "      \"vega\": \"https://cdn.jsdelivr.net/npm/vega@5?noext\",\n",
       "      \"vega-lib\": \"https://cdn.jsdelivr.net/npm/vega-lib?noext\",\n",
       "      \"vega-lite\": \"https://cdn.jsdelivr.net/npm/vega-lite@5.20.1?noext\",\n",
       "      \"vega-embed\": \"https://cdn.jsdelivr.net/npm/vega-embed@6?noext\",\n",
       "    };\n",
       "\n",
       "    function maybeLoadScript(lib, version) {\n",
       "      var key = `${lib.replace(\"-\", \"\")}_version`;\n",
       "      return (VEGA_DEBUG[key] == version) ?\n",
       "        Promise.resolve(paths[lib]) :\n",
       "        new Promise(function(resolve, reject) {\n",
       "          var s = document.createElement('script');\n",
       "          document.getElementsByTagName(\"head\")[0].appendChild(s);\n",
       "          s.async = true;\n",
       "          s.onload = () => {\n",
       "            VEGA_DEBUG[key] = version;\n",
       "            return resolve(paths[lib]);\n",
       "          };\n",
       "          s.onerror = () => reject(`Error loading script: ${paths[lib]}`);\n",
       "          s.src = paths[lib];\n",
       "        });\n",
       "    }\n",
       "\n",
       "    function showError(err) {\n",
       "      outputDiv.innerHTML = `<div class=\"error\" style=\"color:red;\">${err}</div>`;\n",
       "      throw err;\n",
       "    }\n",
       "\n",
       "    function displayChart(vegaEmbed) {\n",
       "      vegaEmbed(outputDiv, spec, embedOpt)\n",
       "        .catch(err => showError(`Javascript Error: ${err.message}<br>This usually means there's a typo in your chart specification. See the javascript console for the full traceback.`));\n",
       "    }\n",
       "\n",
       "    if(typeof define === \"function\" && define.amd) {\n",
       "      requirejs.config({paths});\n",
       "      let deps = [\"vega-embed\"];\n",
       "      require(deps, displayChart, err => showError(`Error loading script: ${err.message}`));\n",
       "    } else {\n",
       "      maybeLoadScript(\"vega\", \"5\")\n",
       "        .then(() => maybeLoadScript(\"vega-lite\", \"5.20.1\"))\n",
       "        .then(() => maybeLoadScript(\"vega-embed\", \"6\"))\n",
       "        .catch(showError)\n",
       "        .then(() => displayChart(vegaEmbed));\n",
       "    }\n",
       "  })({\"config\": {\"view\": {\"continuousWidth\": 300, \"continuousHeight\": 300}}, \"data\": {\"name\": \"data-482949cbf8f0e626664f8bc19bc08f94\"}, \"mark\": {\"type\": \"bar\"}, \"encoding\": {\"x\": {\"field\": \"environment\", \"sort\": \"y\", \"title\": \"execution environment\", \"type\": \"nominal\"}, \"y\": {\"field\": \"execution_time_us\", \"title\": \"execution time in \\u00b5s\", \"type\": \"quantitative\"}}, \"$schema\": \"https://vega.github.io/schema/vega-lite/v5.20.1.json\", \"datasets\": {\"data-482949cbf8f0e626664f8bc19bc08f94\": [{\"environment\": \"jerryscript\", \"execution_time_us\": 7891753.6, \"load_time_us\": 13883.4}, {\"environment\": \"native\", \"execution_time_us\": 24123.4, \"load_time_us\": 0.0}, {\"environment\": \"wamr\", \"execution_time_us\": 1011616.0, \"load_time_us\": 2408.2}, {\"environment\": \"micropython\", \"execution_time_us\": 5619891.6, \"load_time_us\": 42535.4}]}}, {\"scaleFactor\": 2, \"mode\": \"vega-lite\"});\n",
       "</script>"
      ],
      "text/plain": [
       "alt.Chart(...)"
      ]
     },
     "metadata": {},
     "output_type": "display_data"
    },
    {
     "data": {
      "text/html": [
       "\n",
       "<style>\n",
       "  #altair-viz-1f6ca576d0064dfbad6c8e9b050ab78f.vega-embed {\n",
       "    width: 100%;\n",
       "    display: flex;\n",
       "  }\n",
       "\n",
       "  #altair-viz-1f6ca576d0064dfbad6c8e9b050ab78f.vega-embed details,\n",
       "  #altair-viz-1f6ca576d0064dfbad6c8e9b050ab78f.vega-embed details summary {\n",
       "    position: relative;\n",
       "  }\n",
       "</style>\n",
       "<div id=\"altair-viz-1f6ca576d0064dfbad6c8e9b050ab78f\"></div>\n",
       "<script type=\"text/javascript\">\n",
       "  var VEGA_DEBUG = (typeof VEGA_DEBUG == \"undefined\") ? {} : VEGA_DEBUG;\n",
       "  (function(spec, embedOpt){\n",
       "    let outputDiv = document.currentScript.previousElementSibling;\n",
       "    if (outputDiv.id !== \"altair-viz-1f6ca576d0064dfbad6c8e9b050ab78f\") {\n",
       "      outputDiv = document.getElementById(\"altair-viz-1f6ca576d0064dfbad6c8e9b050ab78f\");\n",
       "    }\n",
       "\n",
       "    const paths = {\n",
       "      \"vega\": \"https://cdn.jsdelivr.net/npm/vega@5?noext\",\n",
       "      \"vega-lib\": \"https://cdn.jsdelivr.net/npm/vega-lib?noext\",\n",
       "      \"vega-lite\": \"https://cdn.jsdelivr.net/npm/vega-lite@5.20.1?noext\",\n",
       "      \"vega-embed\": \"https://cdn.jsdelivr.net/npm/vega-embed@6?noext\",\n",
       "    };\n",
       "\n",
       "    function maybeLoadScript(lib, version) {\n",
       "      var key = `${lib.replace(\"-\", \"\")}_version`;\n",
       "      return (VEGA_DEBUG[key] == version) ?\n",
       "        Promise.resolve(paths[lib]) :\n",
       "        new Promise(function(resolve, reject) {\n",
       "          var s = document.createElement('script');\n",
       "          document.getElementsByTagName(\"head\")[0].appendChild(s);\n",
       "          s.async = true;\n",
       "          s.onload = () => {\n",
       "            VEGA_DEBUG[key] = version;\n",
       "            return resolve(paths[lib]);\n",
       "          };\n",
       "          s.onerror = () => reject(`Error loading script: ${paths[lib]}`);\n",
       "          s.src = paths[lib];\n",
       "        });\n",
       "    }\n",
       "\n",
       "    function showError(err) {\n",
       "      outputDiv.innerHTML = `<div class=\"error\" style=\"color:red;\">${err}</div>`;\n",
       "      throw err;\n",
       "    }\n",
       "\n",
       "    function displayChart(vegaEmbed) {\n",
       "      vegaEmbed(outputDiv, spec, embedOpt)\n",
       "        .catch(err => showError(`Javascript Error: ${err.message}<br>This usually means there's a typo in your chart specification. See the javascript console for the full traceback.`));\n",
       "    }\n",
       "\n",
       "    if(typeof define === \"function\" && define.amd) {\n",
       "      requirejs.config({paths});\n",
       "      let deps = [\"vega-embed\"];\n",
       "      require(deps, displayChart, err => showError(`Error loading script: ${err.message}`));\n",
       "    } else {\n",
       "      maybeLoadScript(\"vega\", \"5\")\n",
       "        .then(() => maybeLoadScript(\"vega-lite\", \"5.20.1\"))\n",
       "        .then(() => maybeLoadScript(\"vega-embed\", \"6\"))\n",
       "        .catch(showError)\n",
       "        .then(() => displayChart(vegaEmbed));\n",
       "    }\n",
       "  })({\"config\": {\"view\": {\"continuousWidth\": 300, \"continuousHeight\": 300}}, \"data\": {\"name\": \"data-482949cbf8f0e626664f8bc19bc08f94\"}, \"mark\": {\"type\": \"bar\"}, \"encoding\": {\"x\": {\"field\": \"environment\", \"sort\": \"y\", \"title\": \"execution environment\", \"type\": \"nominal\"}, \"y\": {\"field\": \"load_time_us\", \"title\": \"load time in \\u00b5s\", \"type\": \"quantitative\"}}, \"$schema\": \"https://vega.github.io/schema/vega-lite/v5.20.1.json\", \"datasets\": {\"data-482949cbf8f0e626664f8bc19bc08f94\": [{\"environment\": \"jerryscript\", \"execution_time_us\": 7891753.6, \"load_time_us\": 13883.4}, {\"environment\": \"native\", \"execution_time_us\": 24123.4, \"load_time_us\": 0.0}, {\"environment\": \"wamr\", \"execution_time_us\": 1011616.0, \"load_time_us\": 2408.2}, {\"environment\": \"micropython\", \"execution_time_us\": 5619891.6, \"load_time_us\": 42535.4}]}}, {\"scaleFactor\": 2, \"mode\": \"vega-lite\"});\n",
       "</script>"
      ],
      "text/plain": [
       "alt.Chart(...)"
      ]
     },
     "metadata": {},
     "output_type": "display_data"
    }
   ],
   "source": [
    "benchmark_avg_over_iteration = benchmark_df.group_by(\"environment\").agg(\n",
    "    pl.col(\"execution_time_us\").mean(), (pl.col(\"init_runtime_us\").mean() + pl.col(\"load_program_us\").mean()).alias(\"load_time_us\")\n",
    "    )\n",
    "\n",
    "execution_time = alt.Chart(benchmark_avg_over_iteration).encode(\n",
    "    alt.X(\"environment\", title=\"execution environment\").sort(\"y\"),\n",
    "    alt.Y(\"execution_time_us\", title=\"execution time in µs\" ),\n",
    ").mark_bar()\n",
    "\n",
    "\n",
    "load_time = alt.Chart(benchmark_avg_over_iteration).encode(\n",
    "    alt.X(\"environment\", title=\"execution environment\").sort(\"y\"),\n",
    "    alt.Y(\"load_time_us\", title=\"load time in µs\" ),\n",
    ").mark_bar()\n",
    "\n",
    "execution_time.display(scaleFactor=2)\n",
    "load_time.display(scaleFactor=2)"
   ]
  },
  {
   "cell_type": "code",
   "execution_count": 7,
   "id": "1b48dbb2",
   "metadata": {},
   "outputs": [
    {
     "data": {
      "text/html": [
       "<div><style>\n",
       ".dataframe > thead > tr,\n",
       ".dataframe > tbody > tr {\n",
       "  text-align: right;\n",
       "  white-space: pre-wrap;\n",
       "}\n",
       "</style>\n",
       "<small>shape: (4, 4)</small><table border=\"1\" class=\"dataframe\"><thead><tr><th>environment</th><th>execution_time_us</th><th>load_time_us</th><th>times native</th></tr><tr><td>str</td><td>f64</td><td>f64</td><td>f64</td></tr></thead><tbody><tr><td>&quot;jerryscript&quot;</td><td>7891753.6</td><td>13883.4</td><td>327.141017</td></tr><tr><td>&quot;native&quot;</td><td>24123.4</td><td>0.0</td><td>1.0</td></tr><tr><td>&quot;wamr&quot;</td><td>1.011616e6</td><td>2408.2</td><td>41.935051</td></tr><tr><td>&quot;micropython&quot;</td><td>5619891.6</td><td>42535.4</td><td>232.964325</td></tr></tbody></table></div>"
      ],
      "text/plain": [
       "shape: (4, 4)\n",
       "┌─────────────┬───────────────────┬──────────────┬──────────────┐\n",
       "│ environment ┆ execution_time_us ┆ load_time_us ┆ times native │\n",
       "│ ---         ┆ ---               ┆ ---          ┆ ---          │\n",
       "│ str         ┆ f64               ┆ f64          ┆ f64          │\n",
       "╞═════════════╪═══════════════════╪══════════════╪══════════════╡\n",
       "│ jerryscript ┆ 7891753.6         ┆ 13883.4      ┆ 327.141017   │\n",
       "│ native      ┆ 24123.4           ┆ 0.0          ┆ 1.0          │\n",
       "│ wamr        ┆ 1.011616e6        ┆ 2408.2       ┆ 41.935051    │\n",
       "│ micropython ┆ 5619891.6         ┆ 42535.4      ┆ 232.964325   │\n",
       "└─────────────┴───────────────────┴──────────────┴──────────────┘"
      ]
     },
     "execution_count": 7,
     "metadata": {},
     "output_type": "execute_result"
    }
   ],
   "source": [
    "native_execution_time = benchmark_avg_over_iteration.filter(pl.col(\"environment\").eq(\"native\")).select(\"execution_time_us\").item(0,0)\n",
    "\n",
    "# print(\"native_execution_time\", native_execution_time)\n",
    "\n",
    "benchmark_avg_over_iteration.with_columns(\n",
    "    pl.col(\"execution_time_us\").truediv(native_execution_time).alias(\"times native\")\n",
    ")"
   ]
  },
  {
   "cell_type": "code",
   "execution_count": null,
   "id": "882c870e",
   "metadata": {},
   "outputs": [],
   "source": []
  }
 ],
 "metadata": {
  "kernelspec": {
   "display_name": "virt-bench-on-riot-qrn0KbBr",
   "language": "python",
   "name": "python3"
  },
  "language_info": {
   "codemirror_mode": {
    "name": "ipython",
    "version": 3
   },
   "file_extension": ".py",
   "mimetype": "text/x-python",
   "name": "python",
   "nbconvert_exporter": "python",
   "pygments_lexer": "ipython3",
   "version": "3.12.3"
  }
 },
 "nbformat": 4,
 "nbformat_minor": 5
}
