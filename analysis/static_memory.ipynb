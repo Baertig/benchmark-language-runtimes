{
 "cells": [
  {
   "cell_type": "code",
   "execution_count": 4,
   "id": "f5ef2032",
   "metadata": {},
   "outputs": [],
   "source": [
    "import polars as pl\n",
    "import altair as alt\n",
    "\n"
   ]
  },
  {
   "cell_type": "code",
   "execution_count": 10,
   "id": "1fb4c827",
   "metadata": {},
   "outputs": [],
   "source": [
    "df = pl.read_csv(\"../data/memory/memory-sizes.csv\")\n",
    "\n",
    "# Replace 'app' and 'unspecified' (case-insensitive) with 'Runtime'\n",
    "df = df.with_columns(\n",
    "    pl.when(pl.col(\"category\").str.to_lowercase().is_in([\"app\", \"unspecified\"]))\n",
    "      .then(pl.lit(\"Runtime\"))\n",
    "      .otherwise(pl.col(\"category\"))\n",
    "      .alias(\"category\")\n",
    ").filter(pl.col(\"category\").ne(\"fill\"))"
   ]
  },
  {
   "cell_type": "code",
   "execution_count": 20,
   "id": "403856f5",
   "metadata": {},
   "outputs": [
    {
     "data": {
      "text/html": [
       "\n",
       "<style>\n",
       "  #altair-viz-31a23992e4c8406ea50da063a6d46d4c.vega-embed {\n",
       "    width: 100%;\n",
       "    display: flex;\n",
       "  }\n",
       "\n",
       "  #altair-viz-31a23992e4c8406ea50da063a6d46d4c.vega-embed details,\n",
       "  #altair-viz-31a23992e4c8406ea50da063a6d46d4c.vega-embed details summary {\n",
       "    position: relative;\n",
       "  }\n",
       "</style>\n",
       "<div id=\"altair-viz-31a23992e4c8406ea50da063a6d46d4c\"></div>\n",
       "<script type=\"text/javascript\">\n",
       "  var VEGA_DEBUG = (typeof VEGA_DEBUG == \"undefined\") ? {} : VEGA_DEBUG;\n",
       "  (function(spec, embedOpt){\n",
       "    let outputDiv = document.currentScript.previousElementSibling;\n",
       "    if (outputDiv.id !== \"altair-viz-31a23992e4c8406ea50da063a6d46d4c\") {\n",
       "      outputDiv = document.getElementById(\"altair-viz-31a23992e4c8406ea50da063a6d46d4c\");\n",
       "    }\n",
       "\n",
       "    const paths = {\n",
       "      \"vega\": \"https://cdn.jsdelivr.net/npm/vega@5?noext\",\n",
       "      \"vega-lib\": \"https://cdn.jsdelivr.net/npm/vega-lib?noext\",\n",
       "      \"vega-lite\": \"https://cdn.jsdelivr.net/npm/vega-lite@5.20.1?noext\",\n",
       "      \"vega-embed\": \"https://cdn.jsdelivr.net/npm/vega-embed@6?noext\",\n",
       "    };\n",
       "\n",
       "    function maybeLoadScript(lib, version) {\n",
       "      var key = `${lib.replace(\"-\", \"\")}_version`;\n",
       "      return (VEGA_DEBUG[key] == version) ?\n",
       "        Promise.resolve(paths[lib]) :\n",
       "        new Promise(function(resolve, reject) {\n",
       "          var s = document.createElement('script');\n",
       "          document.getElementsByTagName(\"head\")[0].appendChild(s);\n",
       "          s.async = true;\n",
       "          s.onload = () => {\n",
       "            VEGA_DEBUG[key] = version;\n",
       "            return resolve(paths[lib]);\n",
       "          };\n",
       "          s.onerror = () => reject(`Error loading script: ${paths[lib]}`);\n",
       "          s.src = paths[lib];\n",
       "        });\n",
       "    }\n",
       "\n",
       "    function showError(err) {\n",
       "      outputDiv.innerHTML = `<div class=\"error\" style=\"color:red;\">${err}</div>`;\n",
       "      throw err;\n",
       "    }\n",
       "\n",
       "    function displayChart(vegaEmbed) {\n",
       "      vegaEmbed(outputDiv, spec, embedOpt)\n",
       "        .catch(err => showError(`Javascript Error: ${err.message}<br>This usually means there's a typo in your chart specification. See the javascript console for the full traceback.`));\n",
       "    }\n",
       "\n",
       "    if(typeof define === \"function\" && define.amd) {\n",
       "      requirejs.config({paths});\n",
       "      let deps = [\"vega-embed\"];\n",
       "      require(deps, displayChart, err => showError(`Error loading script: ${err.message}`));\n",
       "    } else {\n",
       "      maybeLoadScript(\"vega\", \"5\")\n",
       "        .then(() => maybeLoadScript(\"vega-lite\", \"5.20.1\"))\n",
       "        .then(() => maybeLoadScript(\"vega-embed\", \"6\"))\n",
       "        .catch(showError)\n",
       "        .then(() => displayChart(vegaEmbed));\n",
       "    }\n",
       "  })({\"config\": {\"view\": {\"continuousWidth\": 300, \"continuousHeight\": 300}}, \"data\": {\"name\": \"data-76f91f2c591f7c3949fb9874111f8a36\"}, \"facet\": {\"column\": {\"field\": \"benchmark\", \"title\": \"Static memory usage (ROM)\", \"type\": \"nominal\"}}, \"spec\": {\"mark\": {\"type\": \"bar\"}, \"encoding\": {\"color\": {\"field\": \"category\", \"title\": \"Category\", \"type\": \"nominal\"}, \"tooltip\": [{\"field\": \"type\", \"title\": \"Section\", \"type\": \"nominal\"}, {\"field\": \"category\", \"type\": \"nominal\"}, {\"field\": \"size\", \"title\": \"Binary size (bytes)\", \"type\": \"quantitative\"}], \"x\": {\"field\": \"environment\", \"title\": \"Environment\", \"type\": \"nominal\"}, \"y\": {\"field\": \"size\", \"stack\": \"zero\", \"title\": \"Size (bytes)\", \"type\": \"quantitative\"}}}, \"$schema\": \"https://vega.github.io/schema/vega-lite/v5.20.1.json\", \"datasets\": {\"data-76f91f2c591f7c3949fb9874111f8a36\": [{\"benchmark\": \"tarfind\", \"board\": \"adafruit-feather-nrf52840-sense\", \"environment\": \"jerryscript\", \"category\": \"Kernel\", \"type\": \".text\", \"size\": 28427}, {\"benchmark\": \"tarfind\", \"board\": \"adafruit-feather-nrf52840-sense\", \"environment\": \"jerryscript\", \"category\": \"Runtime\", \"type\": \".text\", \"size\": 7000}, {\"benchmark\": \"tarfind\", \"board\": \"adafruit-feather-nrf52840-sense\", \"environment\": \"jerryscript\", \"category\": \"Application\", \"type\": \".text\", \"size\": 2281}, {\"benchmark\": \"tarfind\", \"board\": \"adafruit-feather-nrf52840-sense\", \"environment\": \"jerryscript\", \"category\": \"Runtime\", \"type\": \".text\", \"size\": 78085}, {\"benchmark\": \"tarfind\", \"board\": \"adafruit-feather-nrf52840-sense\", \"environment\": \"jerryscript\", \"category\": \"Runtime\", \"type\": \".text\", \"size\": 5973}, {\"benchmark\": \"tarfind\", \"board\": \"adafruit-feather-nrf52840-sense\", \"environment\": \"jerryscript\", \"category\": \"Kernel\", \"type\": \".data\", \"size\": 158}, {\"benchmark\": \"tarfind\", \"board\": \"adafruit-feather-nrf52840-sense\", \"environment\": \"micropython\", \"category\": \"Kernel\", \"type\": \".text\", \"size\": 35568}, {\"benchmark\": \"tarfind\", \"board\": \"adafruit-feather-nrf52840-sense\", \"environment\": \"micropython\", \"category\": \"Runtime\", \"type\": \".text\", \"size\": 10244}, {\"benchmark\": \"tarfind\", \"board\": \"adafruit-feather-nrf52840-sense\", \"environment\": \"micropython\", \"category\": \"Application\", \"type\": \".text\", \"size\": 2314}, {\"benchmark\": \"tarfind\", \"board\": \"adafruit-feather-nrf52840-sense\", \"environment\": \"micropython\", \"category\": \"Runtime\", \"type\": \".text\", \"size\": 92497}, {\"benchmark\": \"tarfind\", \"board\": \"adafruit-feather-nrf52840-sense\", \"environment\": \"micropython\", \"category\": \"Kernel\", \"type\": \".data\", \"size\": 157}, {\"benchmark\": \"tarfind\", \"board\": \"adafruit-feather-nrf52840-sense\", \"environment\": \"native\", \"category\": \"Kernel\", \"type\": \".text\", \"size\": 21951}, {\"benchmark\": \"tarfind\", \"board\": \"adafruit-feather-nrf52840-sense\", \"environment\": \"native\", \"category\": \"Application\", \"type\": \".text\", \"size\": 1526}, {\"benchmark\": \"tarfind\", \"board\": \"adafruit-feather-nrf52840-sense\", \"environment\": \"native\", \"category\": \"Kernel\", \"type\": \".data\", \"size\": 158}, {\"benchmark\": \"tarfind\", \"board\": \"adafruit-feather-nrf52840-sense\", \"environment\": \"wamr\", \"category\": \"Kernel\", \"type\": \".text\", \"size\": 37351}, {\"benchmark\": \"tarfind\", \"board\": \"adafruit-feather-nrf52840-sense\", \"environment\": \"wamr\", \"category\": \"Runtime\", \"type\": \".text\", \"size\": 519}, {\"benchmark\": \"tarfind\", \"board\": \"adafruit-feather-nrf52840-sense\", \"environment\": \"wamr\", \"category\": \"Application\", \"type\": \".text\", \"size\": 879}, {\"benchmark\": \"tarfind\", \"board\": \"adafruit-feather-nrf52840-sense\", \"environment\": \"wamr\", \"category\": \"Runtime\", \"type\": \".text\", \"size\": 64403}, {\"benchmark\": \"tarfind\", \"board\": \"adafruit-feather-nrf52840-sense\", \"environment\": \"wamr\", \"category\": \"Runtime\", \"type\": \".text\", \"size\": 1044}, {\"benchmark\": \"tarfind\", \"board\": \"adafruit-feather-nrf52840-sense\", \"environment\": \"wamr\", \"category\": \"Runtime\", \"type\": \".data\", \"size\": 16}, {\"benchmark\": \"tarfind\", \"board\": \"adafruit-feather-nrf52840-sense\", \"environment\": \"wamr\", \"category\": \"Kernel\", \"type\": \".data\", \"size\": 158}, {\"benchmark\": \"tarfind\", \"board\": \"adafruit-feather-nrf52840-sense\", \"environment\": \"wamr\", \"category\": \"Runtime\", \"type\": \".data\", \"size\": 920}, {\"benchmark\": \"crc_32\", \"board\": \"adafruit-feather-nrf52840-sense\", \"environment\": \"jerryscript\", \"category\": \"Kernel\", \"type\": \".text\", \"size\": 28427}, {\"benchmark\": \"crc_32\", \"board\": \"adafruit-feather-nrf52840-sense\", \"environment\": \"jerryscript\", \"category\": \"Runtime\", \"type\": \".text\", \"size\": 7000}, {\"benchmark\": \"crc_32\", \"board\": \"adafruit-feather-nrf52840-sense\", \"environment\": \"jerryscript\", \"category\": \"Application\", \"type\": \".text\", \"size\": 43431}, {\"benchmark\": \"crc_32\", \"board\": \"adafruit-feather-nrf52840-sense\", \"environment\": \"jerryscript\", \"category\": \"Runtime\", \"type\": \".text\", \"size\": 78046}, {\"benchmark\": \"crc_32\", \"board\": \"adafruit-feather-nrf52840-sense\", \"environment\": \"jerryscript\", \"category\": \"Runtime\", \"type\": \".text\", \"size\": 6012}, {\"benchmark\": \"crc_32\", \"board\": \"adafruit-feather-nrf52840-sense\", \"environment\": \"jerryscript\", \"category\": \"Kernel\", \"type\": \".data\", \"size\": 158}, {\"benchmark\": \"crc_32\", \"board\": \"adafruit-feather-nrf52840-sense\", \"environment\": \"micropython\", \"category\": \"Kernel\", \"type\": \".text\", \"size\": 35568}, {\"benchmark\": \"crc_32\", \"board\": \"adafruit-feather-nrf52840-sense\", \"environment\": \"micropython\", \"category\": \"Runtime\", \"type\": \".text\", \"size\": 10244}, {\"benchmark\": \"crc_32\", \"board\": \"adafruit-feather-nrf52840-sense\", \"environment\": \"micropython\", \"category\": \"Application\", \"type\": \".text\", \"size\": 4454}, {\"benchmark\": \"crc_32\", \"board\": \"adafruit-feather-nrf52840-sense\", \"environment\": \"micropython\", \"category\": \"Runtime\", \"type\": \".text\", \"size\": 92497}, {\"benchmark\": \"crc_32\", \"board\": \"adafruit-feather-nrf52840-sense\", \"environment\": \"micropython\", \"category\": \"Kernel\", \"type\": \".data\", \"size\": 157}, {\"benchmark\": \"crc_32\", \"board\": \"adafruit-feather-nrf52840-sense\", \"environment\": \"native\", \"category\": \"Kernel\", \"type\": \".text\", \"size\": 20479}, {\"benchmark\": \"crc_32\", \"board\": \"adafruit-feather-nrf52840-sense\", \"environment\": \"native\", \"category\": \"Application\", \"type\": \".text\", \"size\": 2450}, {\"benchmark\": \"crc_32\", \"board\": \"adafruit-feather-nrf52840-sense\", \"environment\": \"native\", \"category\": \"Kernel\", \"type\": \".data\", \"size\": 158}, {\"benchmark\": \"crc_32\", \"board\": \"adafruit-feather-nrf52840-sense\", \"environment\": \"wamr\", \"category\": \"Kernel\", \"type\": \".text\", \"size\": 37351}, {\"benchmark\": \"crc_32\", \"board\": \"adafruit-feather-nrf52840-sense\", \"environment\": \"wamr\", \"category\": \"Runtime\", \"type\": \".text\", \"size\": 519}, {\"benchmark\": \"crc_32\", \"board\": \"adafruit-feather-nrf52840-sense\", \"environment\": \"wamr\", \"category\": \"Application\", \"type\": \".text\", \"size\": 1594}, {\"benchmark\": \"crc_32\", \"board\": \"adafruit-feather-nrf52840-sense\", \"environment\": \"wamr\", \"category\": \"Runtime\", \"type\": \".text\", \"size\": 64403}, {\"benchmark\": \"crc_32\", \"board\": \"adafruit-feather-nrf52840-sense\", \"environment\": \"wamr\", \"category\": \"Runtime\", \"type\": \".text\", \"size\": 1044}, {\"benchmark\": \"crc_32\", \"board\": \"adafruit-feather-nrf52840-sense\", \"environment\": \"wamr\", \"category\": \"Runtime\", \"type\": \".data\", \"size\": 16}, {\"benchmark\": \"crc_32\", \"board\": \"adafruit-feather-nrf52840-sense\", \"environment\": \"wamr\", \"category\": \"Kernel\", \"type\": \".data\", \"size\": 158}, {\"benchmark\": \"crc_32\", \"board\": \"adafruit-feather-nrf52840-sense\", \"environment\": \"wamr\", \"category\": \"Runtime\", \"type\": \".data\", \"size\": 920}]}}, {\"scaleFactor\": 2, \"mode\": \"vega-lite\"});\n",
       "</script>"
      ],
      "text/plain": [
       "alt.FacetChart(...)"
      ]
     },
     "metadata": {},
     "output_type": "display_data"
    }
   ],
   "source": [
    "chart = (alt.Chart(\n",
    "        df.filter(pl.col(\"type\").is_in([\".text\", \".data\"])))\n",
    "        .mark_bar()\n",
    "        .encode(\n",
    "            x=alt.X('environment:N', title='Environment'),\n",
    "            y=alt.Y('size:Q', stack='zero', title='Size (bytes)'),\n",
    "            color=alt.Color('category:N', title='Category'),\n",
    "            tooltip=[\n",
    "                alt.Tooltip('type:N', title='Section'),\n",
    "                alt.Tooltip('category:N'),\n",
    "                alt.Tooltip('size:Q', title='Binary size (bytes)')\n",
    "            ]\n",
    "        )\n",
    "        .facet(\n",
    "            column=alt.Column('benchmark:N', title=\"Static memory usage (ROM)\")\n",
    "        )\n",
    ")\n",
    "\n",
    "chart.display(scaleFactor=2)"
   ]
  },
  {
   "cell_type": "code",
   "execution_count": 21,
   "id": "b644f645",
   "metadata": {},
   "outputs": [
    {
     "data": {
      "text/html": [
       "\n",
       "<style>\n",
       "  #altair-viz-fc8342fb67d942119fd98fd520ce324d.vega-embed {\n",
       "    width: 100%;\n",
       "    display: flex;\n",
       "  }\n",
       "\n",
       "  #altair-viz-fc8342fb67d942119fd98fd520ce324d.vega-embed details,\n",
       "  #altair-viz-fc8342fb67d942119fd98fd520ce324d.vega-embed details summary {\n",
       "    position: relative;\n",
       "  }\n",
       "</style>\n",
       "<div id=\"altair-viz-fc8342fb67d942119fd98fd520ce324d\"></div>\n",
       "<script type=\"text/javascript\">\n",
       "  var VEGA_DEBUG = (typeof VEGA_DEBUG == \"undefined\") ? {} : VEGA_DEBUG;\n",
       "  (function(spec, embedOpt){\n",
       "    let outputDiv = document.currentScript.previousElementSibling;\n",
       "    if (outputDiv.id !== \"altair-viz-fc8342fb67d942119fd98fd520ce324d\") {\n",
       "      outputDiv = document.getElementById(\"altair-viz-fc8342fb67d942119fd98fd520ce324d\");\n",
       "    }\n",
       "\n",
       "    const paths = {\n",
       "      \"vega\": \"https://cdn.jsdelivr.net/npm/vega@5?noext\",\n",
       "      \"vega-lib\": \"https://cdn.jsdelivr.net/npm/vega-lib?noext\",\n",
       "      \"vega-lite\": \"https://cdn.jsdelivr.net/npm/vega-lite@5.20.1?noext\",\n",
       "      \"vega-embed\": \"https://cdn.jsdelivr.net/npm/vega-embed@6?noext\",\n",
       "    };\n",
       "\n",
       "    function maybeLoadScript(lib, version) {\n",
       "      var key = `${lib.replace(\"-\", \"\")}_version`;\n",
       "      return (VEGA_DEBUG[key] == version) ?\n",
       "        Promise.resolve(paths[lib]) :\n",
       "        new Promise(function(resolve, reject) {\n",
       "          var s = document.createElement('script');\n",
       "          document.getElementsByTagName(\"head\")[0].appendChild(s);\n",
       "          s.async = true;\n",
       "          s.onload = () => {\n",
       "            VEGA_DEBUG[key] = version;\n",
       "            return resolve(paths[lib]);\n",
       "          };\n",
       "          s.onerror = () => reject(`Error loading script: ${paths[lib]}`);\n",
       "          s.src = paths[lib];\n",
       "        });\n",
       "    }\n",
       "\n",
       "    function showError(err) {\n",
       "      outputDiv.innerHTML = `<div class=\"error\" style=\"color:red;\">${err}</div>`;\n",
       "      throw err;\n",
       "    }\n",
       "\n",
       "    function displayChart(vegaEmbed) {\n",
       "      vegaEmbed(outputDiv, spec, embedOpt)\n",
       "        .catch(err => showError(`Javascript Error: ${err.message}<br>This usually means there's a typo in your chart specification. See the javascript console for the full traceback.`));\n",
       "    }\n",
       "\n",
       "    if(typeof define === \"function\" && define.amd) {\n",
       "      requirejs.config({paths});\n",
       "      let deps = [\"vega-embed\"];\n",
       "      require(deps, displayChart, err => showError(`Error loading script: ${err.message}`));\n",
       "    } else {\n",
       "      maybeLoadScript(\"vega\", \"5\")\n",
       "        .then(() => maybeLoadScript(\"vega-lite\", \"5.20.1\"))\n",
       "        .then(() => maybeLoadScript(\"vega-embed\", \"6\"))\n",
       "        .catch(showError)\n",
       "        .then(() => displayChart(vegaEmbed));\n",
       "    }\n",
       "  })({\"config\": {\"view\": {\"continuousWidth\": 300, \"continuousHeight\": 300}}, \"data\": {\"name\": \"data-90f5596ed592c35595878e85c107df73\"}, \"facet\": {\"column\": {\"field\": \"benchmark\", \"title\": \"Static memory usage (RAM)\", \"type\": \"nominal\"}}, \"spec\": {\"mark\": {\"type\": \"bar\"}, \"encoding\": {\"color\": {\"field\": \"category\", \"title\": \"Category\", \"type\": \"nominal\"}, \"tooltip\": [{\"field\": \"type\", \"title\": \"Section\", \"type\": \"nominal\"}, {\"field\": \"category\", \"type\": \"nominal\"}, {\"field\": \"size\", \"title\": \"Binary size (bytes)\", \"type\": \"quantitative\"}], \"x\": {\"field\": \"environment\", \"title\": \"Environment\", \"type\": \"nominal\"}, \"y\": {\"field\": \"size\", \"stack\": \"zero\", \"title\": \"Size (bytes)\", \"type\": \"quantitative\"}}}, \"$schema\": \"https://vega.github.io/schema/vega-lite/v5.20.1.json\", \"datasets\": {\"data-90f5596ed592c35595878e85c107df73\": [{\"benchmark\": \"tarfind\", \"board\": \"adafruit-feather-nrf52840-sense\", \"environment\": \"jerryscript\", \"category\": \"Kernel\", \"type\": \".bss\", \"size\": 12439}, {\"benchmark\": \"tarfind\", \"board\": \"adafruit-feather-nrf52840-sense\", \"environment\": \"jerryscript\", \"category\": \"Kernel\", \"type\": \".data\", \"size\": 158}, {\"benchmark\": \"tarfind\", \"board\": \"adafruit-feather-nrf52840-sense\", \"environment\": \"jerryscript\", \"category\": \"Runtime\", \"type\": \".bss\", \"size\": 104536}, {\"benchmark\": \"tarfind\", \"board\": \"adafruit-feather-nrf52840-sense\", \"environment\": \"micropython\", \"category\": \"Kernel\", \"type\": \".bss\", \"size\": 7439}, {\"benchmark\": \"tarfind\", \"board\": \"adafruit-feather-nrf52840-sense\", \"environment\": \"micropython\", \"category\": \"Kernel\", \"type\": \".data\", \"size\": 157}, {\"benchmark\": \"tarfind\", \"board\": \"adafruit-feather-nrf52840-sense\", \"environment\": \"micropython\", \"category\": \"Runtime\", \"type\": \".bss\", \"size\": 33216}, {\"benchmark\": \"tarfind\", \"board\": \"adafruit-feather-nrf52840-sense\", \"environment\": \"native\", \"category\": \"Kernel\", \"type\": \".bss\", \"size\": 4883}, {\"benchmark\": \"tarfind\", \"board\": \"adafruit-feather-nrf52840-sense\", \"environment\": \"native\", \"category\": \"Kernel\", \"type\": \".data\", \"size\": 158}, {\"benchmark\": \"tarfind\", \"board\": \"adafruit-feather-nrf52840-sense\", \"environment\": \"wamr\", \"category\": \"Kernel\", \"type\": \".bss\", \"size\": 9656}, {\"benchmark\": \"tarfind\", \"board\": \"adafruit-feather-nrf52840-sense\", \"environment\": \"wamr\", \"category\": \"Runtime\", \"type\": \".data\", \"size\": 16}, {\"benchmark\": \"tarfind\", \"board\": \"adafruit-feather-nrf52840-sense\", \"environment\": \"wamr\", \"category\": \"Kernel\", \"type\": \".data\", \"size\": 158}, {\"benchmark\": \"tarfind\", \"board\": \"adafruit-feather-nrf52840-sense\", \"environment\": \"wamr\", \"category\": \"Runtime\", \"type\": \".data\", \"size\": 920}, {\"benchmark\": \"tarfind\", \"board\": \"adafruit-feather-nrf52840-sense\", \"environment\": \"wamr\", \"category\": \"Runtime\", \"type\": \".bss\", \"size\": 4}, {\"benchmark\": \"tarfind\", \"board\": \"adafruit-feather-nrf52840-sense\", \"environment\": \"wamr\", \"category\": \"Runtime\", \"type\": \".bss\", \"size\": 43}, {\"benchmark\": \"crc_32\", \"board\": \"adafruit-feather-nrf52840-sense\", \"environment\": \"jerryscript\", \"category\": \"Kernel\", \"type\": \".bss\", \"size\": 12439}, {\"benchmark\": \"crc_32\", \"board\": \"adafruit-feather-nrf52840-sense\", \"environment\": \"jerryscript\", \"category\": \"Kernel\", \"type\": \".data\", \"size\": 158}, {\"benchmark\": \"crc_32\", \"board\": \"adafruit-feather-nrf52840-sense\", \"environment\": \"jerryscript\", \"category\": \"Runtime\", \"type\": \".bss\", \"size\": 104536}, {\"benchmark\": \"crc_32\", \"board\": \"adafruit-feather-nrf52840-sense\", \"environment\": \"micropython\", \"category\": \"Kernel\", \"type\": \".bss\", \"size\": 7439}, {\"benchmark\": \"crc_32\", \"board\": \"adafruit-feather-nrf52840-sense\", \"environment\": \"micropython\", \"category\": \"Kernel\", \"type\": \".data\", \"size\": 157}, {\"benchmark\": \"crc_32\", \"board\": \"adafruit-feather-nrf52840-sense\", \"environment\": \"micropython\", \"category\": \"Runtime\", \"type\": \".bss\", \"size\": 33216}, {\"benchmark\": \"crc_32\", \"board\": \"adafruit-feather-nrf52840-sense\", \"environment\": \"native\", \"category\": \"Kernel\", \"type\": \".bss\", \"size\": 4879}, {\"benchmark\": \"crc_32\", \"board\": \"adafruit-feather-nrf52840-sense\", \"environment\": \"native\", \"category\": \"Kernel\", \"type\": \".data\", \"size\": 158}, {\"benchmark\": \"crc_32\", \"board\": \"adafruit-feather-nrf52840-sense\", \"environment\": \"native\", \"category\": \"Application\", \"type\": \".bss\", \"size\": 4}, {\"benchmark\": \"crc_32\", \"board\": \"adafruit-feather-nrf52840-sense\", \"environment\": \"wamr\", \"category\": \"Kernel\", \"type\": \".bss\", \"size\": 9656}, {\"benchmark\": \"crc_32\", \"board\": \"adafruit-feather-nrf52840-sense\", \"environment\": \"wamr\", \"category\": \"Runtime\", \"type\": \".data\", \"size\": 16}, {\"benchmark\": \"crc_32\", \"board\": \"adafruit-feather-nrf52840-sense\", \"environment\": \"wamr\", \"category\": \"Kernel\", \"type\": \".data\", \"size\": 158}, {\"benchmark\": \"crc_32\", \"board\": \"adafruit-feather-nrf52840-sense\", \"environment\": \"wamr\", \"category\": \"Runtime\", \"type\": \".data\", \"size\": 920}, {\"benchmark\": \"crc_32\", \"board\": \"adafruit-feather-nrf52840-sense\", \"environment\": \"wamr\", \"category\": \"Runtime\", \"type\": \".bss\", \"size\": 4}, {\"benchmark\": \"crc_32\", \"board\": \"adafruit-feather-nrf52840-sense\", \"environment\": \"wamr\", \"category\": \"Runtime\", \"type\": \".bss\", \"size\": 43}]}}, {\"scaleFactor\": 2, \"mode\": \"vega-lite\"});\n",
       "</script>"
      ],
      "text/plain": [
       "alt.FacetChart(...)"
      ]
     },
     "metadata": {},
     "output_type": "display_data"
    }
   ],
   "source": [
    "chart = (alt.Chart(\n",
    "        df.filter(pl.col(\"type\").is_in([\".bss\", \".data\"])))\n",
    "        .mark_bar()\n",
    "        .encode(\n",
    "            x=alt.X('environment:N', title='Environment'),\n",
    "            y=alt.Y('size:Q', stack='zero', title='Size (bytes)'),\n",
    "            color=alt.Color('category:N', title='Category'),\n",
    "            tooltip=[\n",
    "                alt.Tooltip('type:N', title='Section'),\n",
    "                alt.Tooltip('category:N'),\n",
    "                alt.Tooltip('size:Q', title='Binary size (bytes)')\n",
    "            ]\n",
    "        )\n",
    "        .facet(\n",
    "            column=alt.Column('benchmark:N', title=\"Static memory usage (RAM)\")\n",
    "        )\n",
    ")\n",
    "\n",
    "chart.display(scaleFactor=2)"
   ]
  },
  {
   "cell_type": "code",
   "execution_count": 14,
   "id": "549b5a1c",
   "metadata": {},
   "outputs": [
    {
     "data": {
      "text/html": [
       "<div><style>\n",
       ".dataframe > thead > tr,\n",
       ".dataframe > tbody > tr {\n",
       "  text-align: right;\n",
       "  white-space: pre-wrap;\n",
       "}\n",
       "</style>\n",
       "<small>shape: (1, 6)</small><table border=\"1\" class=\"dataframe\"><thead><tr><th>benchmark</th><th>board</th><th>environment</th><th>category</th><th>type</th><th>size</th></tr><tr><td>str</td><td>str</td><td>str</td><td>str</td><td>str</td><td>i64</td></tr></thead><tbody><tr><td>&quot;crc_32&quot;</td><td>&quot;adafruit-feather-nrf52840-sens…</td><td>&quot;native&quot;</td><td>&quot;Application&quot;</td><td>&quot;.bss&quot;</td><td>4</td></tr></tbody></table></div>"
      ],
      "text/plain": [
       "shape: (1, 6)\n",
       "┌───────────┬─────────────────────────────────┬─────────────┬─────────────┬──────┬──────┐\n",
       "│ benchmark ┆ board                           ┆ environment ┆ category    ┆ type ┆ size │\n",
       "│ ---       ┆ ---                             ┆ ---         ┆ ---         ┆ ---  ┆ ---  │\n",
       "│ str       ┆ str                             ┆ str         ┆ str         ┆ str  ┆ i64  │\n",
       "╞═══════════╪═════════════════════════════════╪═════════════╪═════════════╪══════╪══════╡\n",
       "│ crc_32    ┆ adafruit-feather-nrf52840-sens… ┆ native      ┆ Application ┆ .bss ┆ 4    │\n",
       "└───────────┴─────────────────────────────────┴─────────────┴─────────────┴──────┴──────┘"
      ]
     },
     "execution_count": 14,
     "metadata": {},
     "output_type": "execute_result"
    }
   ],
   "source": [
    "df.filter(pl.col(\"type\").is_in([\".bss\", \".data\"])).filter(pl.col(\"category\").eq(\"Application\"))"
   ]
  }
 ],
 "metadata": {
  "kernelspec": {
   "display_name": "virt-bench-on-riot-qrn0KbBr",
   "language": "python",
   "name": "python3"
  },
  "language_info": {
   "codemirror_mode": {
    "name": "ipython",
    "version": 3
   },
   "file_extension": ".py",
   "mimetype": "text/x-python",
   "name": "python",
   "nbconvert_exporter": "python",
   "pygments_lexer": "ipython3",
   "version": "3.12.3"
  }
 },
 "nbformat": 4,
 "nbformat_minor": 5
}
